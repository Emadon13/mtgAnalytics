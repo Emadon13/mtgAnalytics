{
 "cells": [
  {
   "cell_type": "code",
   "execution_count": 1,
   "metadata": {},
   "outputs": [],
   "source": [
    "import pandas as pd\n",
    "import seaborn as sns\n",
    "import numpy as np\n",
    "import matplotlib.pyplot as plt\n",
    "import scipy.stats as st\n",
    "import magic_launcher as magic\n",
    "from sklearn import linear_model\n",
    "from pprint import pprint as pretty"
   ]
  },
  {
   "cell_type": "code",
   "execution_count": 2,
   "metadata": {},
   "outputs": [],
   "source": [
    "dataset = magic.getDataset()"
   ]
  },
  {
   "cell_type": "code",
   "execution_count": 3,
   "metadata": {},
   "outputs": [
    {
     "data": {
      "text/html": [
       "<div>\n",
       "<style scoped>\n",
       "    .dataframe tbody tr th:only-of-type {\n",
       "        vertical-align: middle;\n",
       "    }\n",
       "\n",
       "    .dataframe tbody tr th {\n",
       "        vertical-align: top;\n",
       "    }\n",
       "\n",
       "    .dataframe thead th {\n",
       "        text-align: right;\n",
       "    }\n",
       "</style>\n",
       "<table border=\"1\" class=\"dataframe\">\n",
       "  <thead>\n",
       "    <tr style=\"text-align: right;\">\n",
       "      <th></th>\n",
       "      <th>name</th>\n",
       "      <th>color</th>\n",
       "      <th>cmc</th>\n",
       "      <th>type</th>\n",
       "      <th>subtype</th>\n",
       "      <th>set</th>\n",
       "      <th>rarity</th>\n",
       "      <th>text</th>\n",
       "      <th>power</th>\n",
       "      <th>toughness</th>\n",
       "      <th>price_usd</th>\n",
       "      <th>price_eur</th>\n",
       "      <th>price_usd_foil</th>\n",
       "      <th>year</th>\n",
       "    </tr>\n",
       "  </thead>\n",
       "  <tbody>\n",
       "    <tr>\n",
       "      <th>0</th>\n",
       "      <td>Fury Sliver</td>\n",
       "      <td>R</td>\n",
       "      <td>6</td>\n",
       "      <td>Creature</td>\n",
       "      <td>Sliver</td>\n",
       "      <td>tsp</td>\n",
       "      <td>uncommon</td>\n",
       "      <td>All Sliver creatures have double strike.</td>\n",
       "      <td>3</td>\n",
       "      <td>3</td>\n",
       "      <td>1.01</td>\n",
       "      <td>0.08</td>\n",
       "      <td>2.00</td>\n",
       "      <td>2006</td>\n",
       "    </tr>\n",
       "    <tr>\n",
       "      <th>1</th>\n",
       "      <td>Kor Outfitter</td>\n",
       "      <td>W</td>\n",
       "      <td>2</td>\n",
       "      <td>Creature</td>\n",
       "      <td>Kor Soldier</td>\n",
       "      <td>zen</td>\n",
       "      <td>common</td>\n",
       "      <td>When Kor Outfitter enters the battlefield, you...</td>\n",
       "      <td>2</td>\n",
       "      <td>2</td>\n",
       "      <td>0.28</td>\n",
       "      <td>0.14</td>\n",
       "      <td>0.50</td>\n",
       "      <td>2009</td>\n",
       "    </tr>\n",
       "    <tr>\n",
       "      <th>2</th>\n",
       "      <td>Siren Lookout</td>\n",
       "      <td>U</td>\n",
       "      <td>3</td>\n",
       "      <td>Creature</td>\n",
       "      <td>Siren Pirate</td>\n",
       "      <td>xln</td>\n",
       "      <td>common</td>\n",
       "      <td>Flying\r\n",
       "When Siren Lookout enters the battlefi...</td>\n",
       "      <td>1</td>\n",
       "      <td>2</td>\n",
       "      <td>0.08</td>\n",
       "      <td>0.03</td>\n",
       "      <td>0.21</td>\n",
       "      <td>2017</td>\n",
       "    </tr>\n",
       "    <tr>\n",
       "      <th>3</th>\n",
       "      <td>Web</td>\n",
       "      <td>G</td>\n",
       "      <td>1</td>\n",
       "      <td>Enchantment</td>\n",
       "      <td>Aura</td>\n",
       "      <td>3ed</td>\n",
       "      <td>rare</td>\n",
       "      <td>Enchant creature (Target a creature as you cas...</td>\n",
       "      <td>&lt;NA&gt;</td>\n",
       "      <td>&lt;NA&gt;</td>\n",
       "      <td>0.63</td>\n",
       "      <td>0.99</td>\n",
       "      <td>NaN</td>\n",
       "      <td>1994</td>\n",
       "    </tr>\n",
       "    <tr>\n",
       "      <th>4</th>\n",
       "      <td>Venerable Knight</td>\n",
       "      <td>W</td>\n",
       "      <td>1</td>\n",
       "      <td>Creature</td>\n",
       "      <td>Human Knight</td>\n",
       "      <td>eld</td>\n",
       "      <td>uncommon</td>\n",
       "      <td>When Venerable Knight dies, put a +1/+1 counte...</td>\n",
       "      <td>2</td>\n",
       "      <td>1</td>\n",
       "      <td>0.11</td>\n",
       "      <td>0.04</td>\n",
       "      <td>0.30</td>\n",
       "      <td>2019</td>\n",
       "    </tr>\n",
       "  </tbody>\n",
       "</table>\n",
       "</div>"
      ],
      "text/plain": [
       "               name color  cmc         type       subtype  set    rarity  \\\n",
       "0       Fury Sliver     R    6     Creature        Sliver  tsp  uncommon   \n",
       "1     Kor Outfitter     W    2     Creature   Kor Soldier  zen    common   \n",
       "2     Siren Lookout     U    3     Creature  Siren Pirate  xln    common   \n",
       "3               Web     G    1  Enchantment          Aura  3ed      rare   \n",
       "4  Venerable Knight     W    1     Creature  Human Knight  eld  uncommon   \n",
       "\n",
       "                                                text  power  toughness  \\\n",
       "0           All Sliver creatures have double strike.      3          3   \n",
       "1  When Kor Outfitter enters the battlefield, you...      2          2   \n",
       "2  Flying\n",
       "When Siren Lookout enters the battlefi...      1          2   \n",
       "3  Enchant creature (Target a creature as you cas...   <NA>       <NA>   \n",
       "4  When Venerable Knight dies, put a +1/+1 counte...      2          1   \n",
       "\n",
       "   price_usd  price_eur  price_usd_foil  year  \n",
       "0       1.01       0.08            2.00  2006  \n",
       "1       0.28       0.14            0.50  2009  \n",
       "2       0.08       0.03            0.21  2017  \n",
       "3       0.63       0.99             NaN  1994  \n",
       "4       0.11       0.04            0.30  2019  "
      ]
     },
     "execution_count": 3,
     "metadata": {},
     "output_type": "execute_result"
    }
   ],
   "source": [
    "dataset = magic.explode(dataset, 'color', '')\n",
    "dataset = magic.explode(dataset, 'type', ' ')\n",
    "dataset.head()"
   ]
  },
  {
   "cell_type": "code",
   "execution_count": 4,
   "metadata": {},
   "outputs": [],
   "source": [
    "x = 'color'\n",
    "y = 'type'\n",
    "\n",
    "cont = dataset[[x,y]].pivot_table(index=x,columns=y,aggfunc=len,margins=True,margins_name=\"Total\")"
   ]
  },
  {
   "cell_type": "code",
   "execution_count": 5,
   "metadata": {},
   "outputs": [],
   "source": [
    "tx = cont.loc[:,['Total']]\n",
    "ty = cont.loc[['Total'],:]\n",
    "n = len(dataset)\n",
    "indep = tx.dot(ty) / n"
   ]
  },
  {
   "cell_type": "code",
   "execution_count": 6,
   "metadata": {},
   "outputs": [],
   "source": [
    "c = cont.fillna(0) # On remplace les valeurs nulles par 0\n",
    "measure = (c-indep)**2/indep\n",
    "xi_n = measure.sum().sum()\n",
    "table = measure/xi_n"
   ]
  },
  {
   "cell_type": "code",
   "execution_count": 7,
   "metadata": {},
   "outputs": [
    {
     "data": {
      "image/png": "[encoded data removed]",
      "text/plain": [
       "<Figure size 1440x360 with 2 Axes>"
      ]
     },
     "metadata": {
      "needs_background": "light"
     },
     "output_type": "display_data"
    }
   ],
   "source": [
    "fig_dims = (20,5)\n",
    "fig, ax = plt.subplots(figsize=fig_dims)\n",
    "sns.heatmap(table.iloc[:-1,:-1], cmap='magma_r').invert_yaxis()\n",
    "plt.show()"
   ]
  },
  {
   "cell_type": "raw",
   "metadata": {},
   "source": []
  }
 ],
 "metadata": {
  "kernelspec": {
   "display_name": "Python 3",
   "language": "python",
   "name": "python3"
  },
  "language_info": {
   "codemirror_mode": {
    "name": "ipython",
    "version": 3
   },
   "file_extension": ".py",
   "mimetype": "text/x-python",
   "name": "python",
   "nbconvert_exporter": "python",
   "pygments_lexer": "ipython3",
   "version": "3.8.5"
  }
 },
 "nbformat": 4,
 "nbformat_minor": 4
}
